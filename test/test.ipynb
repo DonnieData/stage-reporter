{
 "cells": [
  {
   "cell_type": "code",
   "execution_count": 1,
   "id": "7227ce68-3177-40e1-ad31-ab6b36b2f5c2",
   "metadata": {
    "execution": {
     "iopub.execute_input": "2022-06-11T19:34:36.806610Z",
     "iopub.status.busy": "2022-06-11T19:34:36.806610Z",
     "iopub.status.idle": "2022-06-11T19:34:37.711730Z",
     "shell.execute_reply": "2022-06-11T19:34:37.710732Z",
     "shell.execute_reply.started": "2022-06-11T19:34:36.806610Z"
    },
    "tags": []
   },
   "outputs": [],
   "source": [
    "import stage_reporter"
   ]
  },
  {
   "cell_type": "code",
   "execution_count": 2,
   "id": "1d89bd5a-2398-4fc4-b016-29a2a129da98",
   "metadata": {
    "execution": {
     "iopub.execute_input": "2022-06-11T19:34:38.874464Z",
     "iopub.status.busy": "2022-06-11T19:34:38.874464Z",
     "iopub.status.idle": "2022-06-11T19:34:38.884885Z",
     "shell.execute_reply": "2022-06-11T19:34:38.883889Z",
     "shell.execute_reply.started": "2022-06-11T19:34:38.874464Z"
    },
    "tags": []
   },
   "outputs": [],
   "source": [
    "test_report = stage_reporter.reporter()"
   ]
  },
  {
   "cell_type": "code",
   "execution_count": 3,
   "id": "fd42dd15-767b-4efc-8b4c-bb40c230dbce",
   "metadata": {
    "execution": {
     "iopub.execute_input": "2022-06-11T19:34:39.790410Z",
     "iopub.status.busy": "2022-06-11T19:34:39.790410Z",
     "iopub.status.idle": "2022-06-11T19:34:39.802920Z",
     "shell.execute_reply": "2022-06-11T19:34:39.801961Z",
     "shell.execute_reply.started": "2022-06-11T19:34:39.790410Z"
    },
    "tags": []
   },
   "outputs": [],
   "source": [
    "test_report.create_report()"
   ]
  },
  {
   "cell_type": "code",
   "execution_count": 4,
   "id": "765d00e8-700a-46e6-ae22-9967d73057d3",
   "metadata": {
    "execution": {
     "iopub.execute_input": "2022-06-11T19:34:40.666790Z",
     "iopub.status.busy": "2022-06-11T19:34:40.666790Z",
     "iopub.status.idle": "2022-06-11T19:34:40.672773Z",
     "shell.execute_reply": "2022-06-11T19:34:40.671778Z",
     "shell.execute_reply.started": "2022-06-11T19:34:40.666790Z"
    },
    "tags": []
   },
   "outputs": [],
   "source": [
    "test_report.log_stage('Loading scraped Data','start')"
   ]
  },
  {
   "cell_type": "code",
   "execution_count": 5,
   "id": "7d83618c-412e-4db1-a5db-dccd0c328647",
   "metadata": {
    "execution": {
     "iopub.execute_input": "2022-06-11T19:34:41.642896Z",
     "iopub.status.busy": "2022-06-11T19:34:41.641899Z",
     "iopub.status.idle": "2022-06-11T19:34:41.671822Z",
     "shell.execute_reply": "2022-06-11T19:34:41.670859Z",
     "shell.execute_reply.started": "2022-06-11T19:34:41.642896Z"
    },
    "tags": []
   },
   "outputs": [
    {
     "data": {
      "text/html": [
       "<div>\n",
       "<style scoped>\n",
       "    .dataframe tbody tr th:only-of-type {\n",
       "        vertical-align: middle;\n",
       "    }\n",
       "\n",
       "    .dataframe tbody tr th {\n",
       "        vertical-align: top;\n",
       "    }\n",
       "\n",
       "    .dataframe thead th {\n",
       "        text-align: right;\n",
       "    }\n",
       "</style>\n",
       "<table border=\"1\" class=\"dataframe\">\n",
       "  <thead>\n",
       "    <tr style=\"text-align: right;\">\n",
       "      <th></th>\n",
       "      <th>stage</th>\n",
       "      <th>execution_time</th>\n",
       "      <th>execution_type</th>\n",
       "    </tr>\n",
       "  </thead>\n",
       "  <tbody>\n",
       "    <tr>\n",
       "      <th>0</th>\n",
       "      <td>Loading scraped Data</td>\n",
       "      <td>06-11-2022 14:34:40</td>\n",
       "      <td>start</td>\n",
       "    </tr>\n",
       "  </tbody>\n",
       "</table>\n",
       "</div>"
      ],
      "text/plain": [
       "                  stage       execution_time execution_type\n",
       "0  Loading scraped Data  06-11-2022 14:34:40          start"
      ]
     },
     "execution_count": 5,
     "metadata": {},
     "output_type": "execute_result"
    }
   ],
   "source": [
    "test_report.create_frame()"
   ]
  },
  {
   "cell_type": "code",
   "execution_count": null,
   "id": "4e6da092-6892-4ffb-b1fd-4731fe7a6979",
   "metadata": {},
   "outputs": [],
   "source": []
  }
 ],
 "metadata": {
  "kernelspec": {
   "display_name": "PythonData",
   "language": "python",
   "name": "pythondata"
  },
  "language_info": {
   "codemirror_mode": {
    "name": "ipython",
    "version": 3
   },
   "file_extension": ".py",
   "mimetype": "text/x-python",
   "name": "python",
   "nbconvert_exporter": "python",
   "pygments_lexer": "ipython3",
   "version": "3.7.11"
  }
 },
 "nbformat": 4,
 "nbformat_minor": 5
}
