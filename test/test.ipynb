{
 "cells": [
  {
   "cell_type": "code",
   "execution_count": 1,
   "id": "7227ce68-3177-40e1-ad31-ab6b36b2f5c2",
   "metadata": {
    "execution": {
     "iopub.execute_input": "2022-06-11T18:54:38.801527Z",
     "iopub.status.busy": "2022-06-11T18:54:38.799528Z",
     "iopub.status.idle": "2022-06-11T18:54:39.374020Z",
     "shell.execute_reply": "2022-06-11T18:54:39.373048Z",
     "shell.execute_reply.started": "2022-06-11T18:54:38.801527Z"
    },
    "tags": []
   },
   "outputs": [],
   "source": [
    "import stage_reporter"
   ]
  },
  {
   "cell_type": "code",
   "execution_count": 2,
   "id": "1d89bd5a-2398-4fc4-b016-29a2a129da98",
   "metadata": {
    "execution": {
     "iopub.execute_input": "2022-06-11T18:55:09.581553Z",
     "iopub.status.busy": "2022-06-11T18:55:09.581553Z",
     "iopub.status.idle": "2022-06-11T18:55:09.598470Z",
     "shell.execute_reply": "2022-06-11T18:55:09.597473Z",
     "shell.execute_reply.started": "2022-06-11T18:55:09.581553Z"
    },
    "tags": []
   },
   "outputs": [],
   "source": [
    "test_report = stage_reporter.reporter()"
   ]
  },
  {
   "cell_type": "code",
   "execution_count": 3,
   "id": "fd42dd15-767b-4efc-8b4c-bb40c230dbce",
   "metadata": {
    "execution": {
     "iopub.execute_input": "2022-06-11T18:55:10.042793Z",
     "iopub.status.busy": "2022-06-11T18:55:10.042793Z",
     "iopub.status.idle": "2022-06-11T18:55:10.058754Z",
     "shell.execute_reply": "2022-06-11T18:55:10.057752Z",
     "shell.execute_reply.started": "2022-06-11T18:55:10.042793Z"
    },
    "tags": []
   },
   "outputs": [],
   "source": [
    "test_report.create_report()"
   ]
  },
  {
   "cell_type": "code",
   "execution_count": 4,
   "id": "765d00e8-700a-46e6-ae22-9967d73057d3",
   "metadata": {
    "execution": {
     "iopub.execute_input": "2022-06-11T18:55:10.492933Z",
     "iopub.status.busy": "2022-06-11T18:55:10.492933Z",
     "iopub.status.idle": "2022-06-11T18:55:10.503479Z",
     "shell.execute_reply": "2022-06-11T18:55:10.502478Z",
     "shell.execute_reply.started": "2022-06-11T18:55:10.492933Z"
    },
    "tags": []
   },
   "outputs": [],
   "source": [
    "test_report.log_stage('Loading scraped Data','start')"
   ]
  },
  {
   "cell_type": "code",
   "execution_count": 5,
   "id": "7d83618c-412e-4db1-a5db-dccd0c328647",
   "metadata": {
    "execution": {
     "iopub.execute_input": "2022-06-11T18:55:10.882145Z",
     "iopub.status.busy": "2022-06-11T18:55:10.881148Z",
     "iopub.status.idle": "2022-06-11T18:55:10.915057Z",
     "shell.execute_reply": "2022-06-11T18:55:10.913067Z",
     "shell.execute_reply.started": "2022-06-11T18:55:10.882145Z"
    },
    "tags": []
   },
   "outputs": [
    {
     "data": {
      "text/html": [
       "<div>\n",
       "<style scoped>\n",
       "    .dataframe tbody tr th:only-of-type {\n",
       "        vertical-align: middle;\n",
       "    }\n",
       "\n",
       "    .dataframe tbody tr th {\n",
       "        vertical-align: top;\n",
       "    }\n",
       "\n",
       "    .dataframe thead th {\n",
       "        text-align: right;\n",
       "    }\n",
       "</style>\n",
       "<table border=\"1\" class=\"dataframe\">\n",
       "  <thead>\n",
       "    <tr style=\"text-align: right;\">\n",
       "      <th></th>\n",
       "      <th>stage</th>\n",
       "      <th>execution_time</th>\n",
       "      <th>execution_type</th>\n",
       "    </tr>\n",
       "  </thead>\n",
       "  <tbody>\n",
       "    <tr>\n",
       "      <th>0</th>\n",
       "      <td>Loading scraped Data</td>\n",
       "      <td>06-11-2022 13:55:10</td>\n",
       "      <td>start</td>\n",
       "    </tr>\n",
       "  </tbody>\n",
       "</table>\n",
       "</div>"
      ],
      "text/plain": [
       "                  stage       execution_time execution_type\n",
       "0  Loading scraped Data  06-11-2022 13:55:10          start"
      ]
     },
     "execution_count": 5,
     "metadata": {},
     "output_type": "execute_result"
    }
   ],
   "source": [
    "test_report.create_frame()"
   ]
  }
 ],
 "metadata": {
  "kernelspec": {
   "display_name": "PythonData",
   "language": "python",
   "name": "pythondata"
  },
  "language_info": {
   "codemirror_mode": {
    "name": "ipython",
    "version": 3
   },
   "file_extension": ".py",
   "mimetype": "text/x-python",
   "name": "python",
   "nbconvert_exporter": "python",
   "pygments_lexer": "ipython3",
   "version": "3.7.11"
  }
 },
 "nbformat": 4,
 "nbformat_minor": 5
}
