{
 "cells": [
  {
   "cell_type": "code",
   "execution_count": 1,
   "id": "e85e7a2d-df26-477f-aaff-832612ce7f01",
   "metadata": {
    "execution": {
     "iopub.execute_input": "2022-06-11T05:00:08.243871Z",
     "iopub.status.busy": "2022-06-11T05:00:08.242874Z",
     "iopub.status.idle": "2022-06-11T05:00:08.771895Z",
     "shell.execute_reply": "2022-06-11T05:00:08.770893Z",
     "shell.execute_reply.started": "2022-06-11T05:00:08.243871Z"
    }
   },
   "outputs": [],
   "source": [
    "import module1"
   ]
  },
  {
   "cell_type": "code",
   "execution_count": 3,
   "id": "412e7edb-f603-4960-942f-59d59b4ff6ff",
   "metadata": {
    "execution": {
     "iopub.execute_input": "2022-06-11T05:02:29.573072Z",
     "iopub.status.busy": "2022-06-11T05:02:29.573072Z",
     "iopub.status.idle": "2022-06-11T05:02:29.581050Z",
     "shell.execute_reply": "2022-06-11T05:02:29.580052Z",
     "shell.execute_reply.started": "2022-06-11T05:02:29.573072Z"
    },
    "tags": []
   },
   "outputs": [],
   "source": [
    "test_1 = module1.stage_reporter()"
   ]
  },
  {
   "cell_type": "code",
   "execution_count": 4,
   "id": "1d94c9da-704e-4875-bab2-1f37a61117bd",
   "metadata": {
    "execution": {
     "iopub.execute_input": "2022-06-11T05:02:59.245010Z",
     "iopub.status.busy": "2022-06-11T05:02:59.245010Z",
     "iopub.status.idle": "2022-06-11T05:02:59.257526Z",
     "shell.execute_reply": "2022-06-11T05:02:59.256528Z",
     "shell.execute_reply.started": "2022-06-11T05:02:59.245010Z"
    }
   },
   "outputs": [],
   "source": [
    "test_1.create_report()"
   ]
  },
  {
   "cell_type": "code",
   "execution_count": 5,
   "id": "0a756bf8-6894-47e8-a024-6ffe5ca97c75",
   "metadata": {
    "execution": {
     "iopub.execute_input": "2022-06-11T05:03:20.595950Z",
     "iopub.status.busy": "2022-06-11T05:03:20.595950Z",
     "iopub.status.idle": "2022-06-11T05:03:20.607012Z",
     "shell.execute_reply": "2022-06-11T05:03:20.606054Z",
     "shell.execute_reply.started": "2022-06-11T05:03:20.595950Z"
    }
   },
   "outputs": [],
   "source": [
    "test_1.log_stage('stage_test_1','start_stage')"
   ]
  },
  {
   "cell_type": "code",
   "execution_count": 6,
   "id": "efb2109d-ea3c-4d86-baad-0aac5b1bbf00",
   "metadata": {
    "execution": {
     "iopub.execute_input": "2022-06-11T05:03:26.493286Z",
     "iopub.status.busy": "2022-06-11T05:03:26.493286Z",
     "iopub.status.idle": "2022-06-11T05:03:26.533182Z",
     "shell.execute_reply": "2022-06-11T05:03:26.532184Z",
     "shell.execute_reply.started": "2022-06-11T05:03:26.493286Z"
    }
   },
   "outputs": [
    {
     "data": {
      "text/html": [
       "<div>\n",
       "<style scoped>\n",
       "    .dataframe tbody tr th:only-of-type {\n",
       "        vertical-align: middle;\n",
       "    }\n",
       "\n",
       "    .dataframe tbody tr th {\n",
       "        vertical-align: top;\n",
       "    }\n",
       "\n",
       "    .dataframe thead th {\n",
       "        text-align: right;\n",
       "    }\n",
       "</style>\n",
       "<table border=\"1\" class=\"dataframe\">\n",
       "  <thead>\n",
       "    <tr style=\"text-align: right;\">\n",
       "      <th></th>\n",
       "      <th>stage</th>\n",
       "      <th>execution_time</th>\n",
       "      <th>execution_type</th>\n",
       "    </tr>\n",
       "  </thead>\n",
       "  <tbody>\n",
       "    <tr>\n",
       "      <th>0</th>\n",
       "      <td>stage_test_1</td>\n",
       "      <td>06-11-2022 00:03:20</td>\n",
       "      <td>start_stage</td>\n",
       "    </tr>\n",
       "  </tbody>\n",
       "</table>\n",
       "</div>"
      ],
      "text/plain": [
       "          stage       execution_time execution_type\n",
       "0  stage_test_1  06-11-2022 00:03:20    start_stage"
      ]
     },
     "execution_count": 6,
     "metadata": {},
     "output_type": "execute_result"
    }
   ],
   "source": [
    "test_1.create_frame()"
   ]
  },
  {
   "cell_type": "code",
   "execution_count": null,
   "id": "e64908ac-b3aa-4c0a-973a-e1b5276fc55a",
   "metadata": {},
   "outputs": [],
   "source": []
  }
 ],
 "metadata": {
  "kernelspec": {
   "display_name": "PythonData",
   "language": "python",
   "name": "pythondata"
  },
  "language_info": {
   "codemirror_mode": {
    "name": "ipython",
    "version": 3
   },
   "file_extension": ".py",
   "mimetype": "text/x-python",
   "name": "python",
   "nbconvert_exporter": "python",
   "pygments_lexer": "ipython3",
   "version": "3.7.11"
  }
 },
 "nbformat": 4,
 "nbformat_minor": 5
}
